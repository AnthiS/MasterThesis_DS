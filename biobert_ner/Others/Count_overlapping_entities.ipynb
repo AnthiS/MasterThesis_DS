{
 "cells": [
  {
   "cell_type": "code",
   "execution_count": 5,
   "metadata": {},
   "outputs": [],
   "source": [
    "from nerds.input.brat import BratInput\n",
    "from nerds.dataset.clean import retain_annotations, resolve_overlaps, clean_annotated_documents\n",
    "from nerdsdev.plot.data import make_distributions, gather_statistics\n",
    "\n",
    "\n",
    "# Import data and resolve all annotation overlaps\n",
    "data_path = \"../data/raw/Elsevier_DrugLabels/\"\n",
    "docs = BratInput(data_path).transform()\n",
    "data = retain_annotations(docs, \"Adverse_drug_reaction\")\n",
    "clean_data = clean_annotated_documents(data)\n",
    "non_overlap_data = resolve_overlaps(clean_data)\n",
    "\n",
    "# Split all documents collection into sentences\n",
    "from nerds.dataset.split import split_annotated_documents\n",
    "sent_docs = split_annotated_documents(non_overlap_data)\n",
    "len(sent_docs)\n",
    "\n",
    "# Select sentences with less than 130 tokens\n",
    "from nerds.util.nlp import text_to_tokens\n",
    "short_sentences = []\n",
    "for i in sent_docs:\n",
    "    tokens = text_to_tokens(i.plain_text_)\n",
    "    if len(tokens)<130:\n",
    "        short_sentences.append(i)\n",
    "\n",
    "# Find the total number of annotated entities (after resolving the overlaps)\n",
    "gather_statistics(short_sentences, annotation_type=\"annotation\")"
   ]
  },
  {
   "cell_type": "code",
   "execution_count": 106,
   "metadata": {},
   "outputs": [
    {
     "name": "stdout",
     "output_type": "stream",
     "text": [
      "3298 of 7763 sentences have at least 1 annotation \n",
      "\n",
      "******************************** \n",
      "\n",
      "The total number of annotated entities are 9330 \n",
      "\n",
      "The distinct entity types are : ['AdverseReaction'] \n",
      "\n",
      "******************************** \n",
      "\n",
      "Percentage over all annotations AdverseReaction: 100.0 % \n",
      "\n"
     ]
    },
    {
     "data": {
      "image/png": "[encoded data removed]",
      "text/plain": [
       "<Figure size 720x360 with 1 Axes>"
      ]
     },
     "metadata": {},
     "output_type": "display_data"
    },
    {
     "name": "stdout",
     "output_type": "stream",
     "text": [
      "******************************** \n",
      "\n",
      "AdverseReaction 3265\n",
      "The total number of unique annotated sentences are 3265 \n",
      "\n",
      "Percentage over sentences AdverseReaction: 100.0 %\n",
      "\n",
      "\n",
      "\n"
     ]
    },
    {
     "data": {
      "image/png": "[encoded data removed]",
      "text/plain": [
       "<Figure size 720x360 with 1 Axes>"
      ]
     },
     "metadata": {},
     "output_type": "display_data"
    },
    {
     "data": {
      "text/plain": [
       "({'AdverseReaction': 100.0}, {'AdverseReaction': 100.0})"
      ]
     },
     "execution_count": 106,
     "metadata": {},
     "output_type": "execute_result"
    }
   ],
   "source": [
    "## Normal Sentences (Elsevier)\n",
    "# with overlaps The total number of annotated entities are 5328\n",
    "# without overlaps The total number of annotated entities are 4849\n",
    "\n",
    "\n",
    "## Short sentences (Elsevier)\n",
    "# with overlaps The total number of annotated entities are 4126\n",
    "# without overlaps The total number of annotated entities are 3862\n",
    "# 4126 - 3862 = 264 (6,4%)\n",
    "# 5328 - 3862 = 27,5%\n",
    "\n",
    "\n",
    "\n",
    "\n",
    "## Normal Sentences (ADE)\n",
    "# with overlaps The total number of annotated entities are 5742\n",
    "# without overlaps The total number of annotated entities are 5734 \n",
    "\n",
    "\n",
    "\n",
    "### Short sentences (ADE) ###\n",
    "# with overlaps The total number of annotated entities are 5742\n",
    "# without overlaps The total number of annotated entities are 5734\n",
    "# 5742 - 5734 = 8 (0,14%)\n",
    "\n",
    "\n",
    "\n",
    "\n",
    "## Normal sentences (TAC2017)\n",
    "# with overlaps The total number of annotated entities are 13780\n",
    "# without overlaps The total number of annotated entities are 12793 \n",
    "\n",
    "\n",
    "\n",
    "### Short sentences (TAC2017) ###\n",
    "# with overlaps The total number of annotated entities are 10156\n",
    "# without overlaps The total number of annotated entities are 9330\n",
    "# 10156 - 9330 = 826 (8.13%)\n",
    "# 13780 - 9330 = 32,3%\n",
    "\n",
    "# Find the total number of annotated entities (after resolving the overlaps)\n",
    "gather_statistics(short_sentences, annotation_type=\"annotation\")"
   ]
  }
 ],
 "metadata": {
  "kernelspec": {
   "display_name": "nerds",
   "language": "python",
   "name": "nerds"
  },
  "language_info": {
   "codemirror_mode": {
    "name": "ipython",
    "version": 3
   },
   "file_extension": ".py",
   "mimetype": "text/x-python",
   "name": "python",
   "nbconvert_exporter": "python",
   "pygments_lexer": "ipython3",
   "version": "3.6.8"
  }
 },
 "nbformat": 4,
 "nbformat_minor": 2
}
